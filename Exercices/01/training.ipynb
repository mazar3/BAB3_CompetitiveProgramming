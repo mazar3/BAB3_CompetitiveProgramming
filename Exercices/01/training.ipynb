{
 "cells": [
  {
   "metadata": {},
   "cell_type": "markdown",
   "source": [
    "# Exercice 1 : Variables & f-strings\n",
    "Écris un programme qui :\n",
    "- Déclare 3 variables :\n",
    "    - ville (string) : contient \"Mons\"\n",
    "    - habitants (int) : contient 95000\n",
    "    - superficie_km2 (float) : contient 146.56\n",
    "- Affiche avec UN SEUL print() utilisant des f-strings :"
   ],
   "id": "97141af0cf7466eb"
  },
  {
   "cell_type": "code",
   "id": "initial_id",
   "metadata": {
    "collapsed": true,
    "ExecuteTime": {
     "end_time": "2025-02-09T16:30:24.972794Z",
     "start_time": "2025-02-09T16:30:24.969436Z"
    }
   },
   "source": [
    "from isoduration.parser.util import is_number\n",
    "\n",
    "ville = \"Mons\"\n",
    "habitants = 95000\n",
    "superficie_km2 = 146.56\n",
    "\n",
    "print (f\"{ville} compte {habitants} habitants.\\nSa densité est de {habitants/superficie_km2:.2f} habitants/km² (calculé à partir de {superficie_km2} km²).\")"
   ],
   "outputs": [
    {
     "name": "stdout",
     "output_type": "stream",
     "text": [
      "Mons compte 95000 habitants.\n",
      "Sa densité est de 648.20 habitants/km² (calculé à partir de 146.56 km²).\n"
     ]
    }
   ],
   "execution_count": 12
  },
  {
   "metadata": {},
   "cell_type": "markdown",
   "source": [
    "# Exercice 2 : Boucles for et range()\n",
    "Crée un programme qui génère ce motif avec des boucles :\n",
    "\n",
    "- 1\n",
    "- 1 2\n",
    "- 1 2 3\n",
    "- 1 2 3 4\n",
    "- 1 2 3 4 5\n",
    "\n",
    "Contraintes :\n",
    "- Utiliser range() dans la boucle externe\n",
    "- Utiliser une boucle interne avec range() ou join()\n",
    "- Pas de listes/hardcoding des nombres"
   ],
   "id": "2947fa7e1e2de1d8"
  },
  {
   "metadata": {
    "ExecuteTime": {
     "end_time": "2025-02-09T16:43:57.620261Z",
     "start_time": "2025-02-09T16:43:57.616492Z"
    }
   },
   "cell_type": "code",
   "source": [
    "for i in range(1, 6):\n",
    "    print(' '.join(str(j) for j in range(1, i + 1)))"
   ],
   "id": "c4ea24b3d475dccc",
   "outputs": [
    {
     "name": "stdout",
     "output_type": "stream",
     "text": [
      "1\n",
      "1 2\n",
      "1 2 3\n",
      "1 2 3 4\n",
      "1 2 3 4 5\n"
     ]
    }
   ],
   "execution_count": 24
  },
  {
   "metadata": {},
   "cell_type": "markdown",
   "source": [
    "# Exercice 3 : Boucle while + validation d'entrée\n",
    "Créé un programme qui :\n",
    "- Demande continuellement un nombre avec input(\"Entrez un prix (0 pour terminer) : \")\n",
    "- Valide que l'entrée est numérique et >=0\n",
    "- Affiche \"Prix invalide\" si échec de validation\n",
    "- Quand on entre 0, affiche :\n",
    "    - Le nombre de prix saisis\n",
    "    - La somme totale\n",
    "    - La moyenne"
   ],
   "id": "b429bfc6d7a4e5ce"
  },
  {
   "metadata": {
    "ExecuteTime": {
     "end_time": "2025-02-09T21:26:59.951850Z",
     "start_time": "2025-02-09T21:26:46.307107Z"
    }
   },
   "cell_type": "code",
   "source": [
    "n_prix = 0\n",
    "total = 0\n",
    "\n",
    "while True:\n",
    "    phrase = input(\"Entrez un prix (0 pour terminer) : \")\n",
    "\n",
    "    try:\n",
    "        prix = float(phrase)\n",
    "        if prix == 0:\n",
    "            break\n",
    "        elif prix < 0:\n",
    "            print(\"Prix invalide\")\n",
    "        else:\n",
    "            n_prix += 1\n",
    "            total += prix\n",
    "    except ValueError:\n",
    "        print(\"Prix invalide\")\n",
    "\n",
    "moyenne = total / n_prix if n_prix > 0 else 0\n",
    "print(f\"Résultat : {n_prix} prix | Total = {total} | Moyenne = {moyenne:.2f} €\")"
   ],
   "id": "baab2c4bc65bdb75",
   "outputs": [
    {
     "name": "stdout",
     "output_type": "stream",
     "text": [
      "Résultat : 3 prix | Total = 41.13 | Moyenne = 13.71 €\n"
     ]
    }
   ],
   "execution_count": 17
  },
  {
   "metadata": {},
   "cell_type": "markdown",
   "source": [
    "# Exercice 4 : Méthodes de chaînes (.split(), .join(), .strip())\n",
    "Crée un programme qui :\n",
    "- Demande une phrase avec 'input()'\n",
    "- Affiche :\n",
    "    - Nombre de mots (split sur espaces)\n",
    "    - Version \"nettoyée\" (sans espaces superflus)\n",
    "    - Première lettre capitale + point final ajouté si manquant\n",
    "    - Tous les mots inversés (ex: \"Bonjour monde\" ➔ \"monde Bonjour\")"
   ],
   "id": "f8f554191f11977"
  },
  {
   "metadata": {
    "ExecuteTime": {
     "end_time": "2025-02-09T21:44:37.938758Z",
     "start_time": "2025-02-09T21:44:29.897716Z"
    }
   },
   "cell_type": "code",
   "source": [
    "phrase = input(\"Entrez une phrase : \")\n",
    "\n",
    "mots = phrase.split()\n",
    "entree_nettoyee = phrase.strip()\n",
    "entree_formatee = entree_nettoyee.capitalize()\n",
    "entree_formatee += \".\" if not entree_formatee.endswith(\".\") else \"\"\n",
    "entree_inversee = \" \".join(reversed(mots)).strip()\n",
    "\n",
    "print(f\"Statut : {len(mots)} mots\")\n",
    "print(f\"Nettoyée : {entree_nettoyee}\")\n",
    "print(f\"Formatée : {entree_formatee}\")\n",
    "print(f\"Inversée : {entree_inversee}\")"
   ],
   "id": "7fe5a6c36a4bf2c9",
   "outputs": [
    {
     "name": "stdout",
     "output_type": "stream",
     "text": [
      "Statut : 3 mots\n",
      "Nettoyée : TEST test teeessssRRRttt\n",
      "Formatée : Test test teeessssrrrttt.\n",
      "Inversée : Teeessssrrrttt test test.\n"
     ]
    }
   ],
   "execution_count": 19
  },
  {
   "metadata": {},
   "cell_type": "markdown",
   "source": [
    "# Exercice 5 : Manipulation de fichiers (read/write)\n",
    "Écris un programme qui :\n",
    "- Crée un fichier training_input.txt contenant :\n",
    "    - Luc;85;72;90\n",
    "    - Emma;78;91;68\n",
    "- Lit le fichier et affiche pour chaque personne :\n",
    "    - Nom\n",
    "    - Meilleure note\n",
    "    - Pire note\n",
    "    - Moyenne\n",
    "- Stocke les résultats dans training_output.txt"
   ],
   "id": "b1dee9efebb74b7"
  },
  {
   "metadata": {
    "ExecuteTime": {
     "end_time": "2025-02-09T22:10:36.334654Z",
     "start_time": "2025-02-09T22:10:36.328986Z"
    }
   },
   "cell_type": "code",
   "source": [
    "with open(\"training_input.txt\", \"w\") as f:\n",
    "    f.write(\"Luc;85;72;90\\nEmma;78;91;68\")\n",
    "\n",
    "with open(\"training_input.txt\", \"r\") as src, open(\"training_output.txt\", \"w\") as dst:\n",
    "    for line in src:\n",
    "        line = line.strip()\n",
    "        if not line:\n",
    "            continue\n",
    "\n",
    "        nom, *notes_str = line.split(\";\")\n",
    "        notes = list(map(int, notes_str))\n",
    "        meilleure_note = max(notes)\n",
    "        pire_note = min(notes)\n",
    "        moyenne = sum(notes) / len(notes) if len(notes) else 0\n",
    "\n",
    "        resultat = (f\"{nom} : max={meilleure_note} | min={pire_note} | moyenne={moyenne:.2f}\")\n",
    "        print(resultat)\n",
    "\n",
    "        dst.write(resultat + \"\\n\")"
   ],
   "id": "c95a4a60655d7dae",
   "outputs": [
    {
     "name": "stdout",
     "output_type": "stream",
     "text": [
      "Luc : max=90 | min=72 | moyenne=82.33\n",
      "Emma : max=91 | min=68 | moyenne=79.00\n"
     ]
    }
   ],
   "execution_count": 27
  },
  {
   "metadata": {},
   "cell_type": "markdown",
   "source": [
    "# Exercice 6 : Fonctions + validation robuste\n",
    "Crée une fonction verifier_coordonnees() qui :\n",
    "- Accepte 4 paramètres : nom (str), rue (str), code_postal (str), ville (str)\n",
    "- Renvoie un tuple (bool, str) avec :\n",
    "    - True + message de succès si :\n",
    "        - Nom/ville en title case\n",
    "        - Code postal belge valide (4 chiffres, 1 espace, 2 lettres majuscules)\n",
    "        - Rue contient au moins 3 caractères\n",
    "    - False + message d'erreur spécifique sinon"
   ],
   "id": "18861b111acb80c3"
  },
  {
   "metadata": {
    "ExecuteTime": {
     "end_time": "2025-02-09T23:17:34.204501Z",
     "start_time": "2025-02-09T23:17:34.200415Z"
    }
   },
   "cell_type": "code",
   "source": [
    "import re\n",
    "\n",
    "def verifier_coordonnees(nom: str, rue: str, code_postal: str, ville: str) -> tuple[bool, str]:\n",
    "    if not nom.istitle():\n",
    "        return False, \"Erreur : le nom doit être en title case\"\n",
    "    elif not ville.istitle():\n",
    "        return False, \"Erreur : la ville doit être en title case\"\n",
    "    elif len(rue) < 3:\n",
    "        return False, \"Erreur : la rue doit contenir au moins 3 caractères.\"\n",
    "    elif not re.match(r\"^\\d{4} [A-Z]{2}$\", code_postal):\n",
    "        return False, \"Erreur : le code postal doit respecter la norme belge (4 chiffres, 1 espace, 2 lettres majuscules).\"\n",
    "    else:\n",
    "        return True, \"Coordonnées valides\"\n",
    "\n",
    "if __name__ == \"__main__\":\n",
    "    print(verifier_coordonnees(\"luc dupont\", \"Rue de la paix\", \"7000 BW\", \"MONS\"))\n",
    "    print(verifier_coordonnees(\"Luc Dupont\", \"xy\", \"7000BW\", \"Mons\"))\n",
    "    print(verifier_coordonnees(\"Luc Dupont\", \"Rue de la paix\", \"7000 BW\", \"Mons\"))"
   ],
   "id": "eebbed6f941fd90a",
   "outputs": [
    {
     "name": "stdout",
     "output_type": "stream",
     "text": [
      "(False, 'Erreur : le nom doit être en title case')\n",
      "(False, 'Erreur : la rue doit contenir au moins 3 caractères.')\n",
      "(True, 'Coordonnées valides')\n"
     ]
    }
   ],
   "execution_count": 37
  },
  {
   "metadata": {},
   "cell_type": "markdown",
   "source": [
    "# Exercice 7 : Programmation Orientée Objet - Classes basiques\n",
    "Crée une classe SerieTV avec :\n",
    "- Attributs publics :\n",
    "    - titre (string)\n",
    "    - annee (int)\n",
    "    - episodes (int)\n",
    "- Méthode duree_moyenne(episode_min) qui renvoie la durée moyenne en minutes si :\n",
    "    - Durée totale = episodes × episode_min\n",
    "    - Arrondi à 1 décimal\n",
    "- Méthode spéciale __str__ pour afficher :\n",
    "    - \"{titre} ({annee}) - {episodes} épisodes\""
   ],
   "id": "d050d98f7f2e51be"
  },
  {
   "metadata": {
    "ExecuteTime": {
     "end_time": "2025-02-09T23:30:08.917025Z",
     "start_time": "2025-02-09T23:30:08.912987Z"
    }
   },
   "cell_type": "code",
   "source": [
    "class SerieTV:\n",
    "    def __init__(self, titre: str, annee: int, episodes: int):\n",
    "        self.titre = titre\n",
    "        self.annee = annee\n",
    "        self.episodes = episodes\n",
    "    def duree_moyenne(self, duree_episode: float) -> float:\n",
    "        return round(self.episodes * duree_episode / self.episodes, 1) if self.episodes else 0\n",
    "    def __str__(self):\n",
    "        return f\"{self.titre} ({self.annee}) - {self.episodes} épisodes\"\n",
    "\n",
    "breaking_bad = SerieTV(\"Breaking Bad\", 2008, 62)\n",
    "print(breaking_bad)\n",
    "print(breaking_bad.duree_moyenne(45))"
   ],
   "id": "7b191a9fc670a5b0",
   "outputs": [
    {
     "name": "stdout",
     "output_type": "stream",
     "text": [
      "Breaking Bad (2008) - 62 épisodes\n",
      "45.0\n"
     ]
    }
   ],
   "execution_count": 43
  },
  {
   "metadata": {},
   "cell_type": "markdown",
   "source": [
    "# Exercice 8 : Héritage de classes\n",
    "Crée une classe MiniSerie qui hérite de SerieTV avec :\n",
    "- Attribut supplémentaire : saisons (int)\n",
    "- Redéfinition de __str__ : ajoute \"en X saisons\"\n",
    "- Nouvelle méthode temps_total() qui renvoie :\n",
    "    - saisons × (moyenne des épisodes par saison) × durée_épisode"
   ],
   "id": "7de83d177404b61e"
  },
  {
   "metadata": {
    "ExecuteTime": {
     "end_time": "2025-02-09T23:42:22.391400Z",
     "start_time": "2025-02-09T23:42:22.386514Z"
    }
   },
   "cell_type": "code",
   "source": [
    "class MiniSerie(SerieTV):\n",
    "    def __init__(self, titre: str, annee: int, episodes: int, saisons: int):\n",
    "        super().__init__(titre, annee, episodes)\n",
    "        self.saisons = saisons\n",
    "    def temps_total(self, duree_episode: float) -> float:\n",
    "        episodes_par_saison = self.episodes / self.saisons if self.saisons else 0\n",
    "        return round(self.saisons * episodes_par_saison * duree_episode, 1)\n",
    "    def __str__(self):\n",
    "        return f\"{self.titre} ({self.annee}) - {self.episodes} épisodes en {self.saisons} saisons\"\n",
    "\n",
    "mandalorian = MiniSerie(\"The Mandalorian\", 2019, 24, 3)\n",
    "print(mandalorian)\n",
    "print(mandalorian.temps_total(40))"
   ],
   "id": "d40afa90c162abd0",
   "outputs": [
    {
     "name": "stdout",
     "output_type": "stream",
     "text": [
      "The Mandalorian (2019) - 24 épisodes en 3 saisons\n",
      "960\n"
     ]
    }
   ],
   "execution_count": 50
  },
  {
   "metadata": {},
   "cell_type": "markdown",
   "source": [
    "# Exercice 9 : Collections avancées - Listes et Dictionnaires\n",
    "Crée un système de gestion de bibliothèque avec :\n",
    "- Classe Livre :\n",
    "    - Attributs : titre (str), auteur (str), annee (int)\n",
    "    - Méthode info() ➔ f-string \"Titre par Auteur (Année)\"\n",
    "- Classe Bibliotheque :\n",
    "    - Attribut : catalogue (dict[str: list[Livre]])\n",
    "        - Clé : genre littéraire\n",
    "        - Valeur : liste des livres de ce genre\n",
    "    - Méthode ajouter_livre(genre, livre)\n",
    "    - Méthode recherche(auteur=None, annee_min=None) ➔ liste de livres"
   ],
   "id": "51b8f45cbba5c906"
  },
  {
   "metadata": {
    "ExecuteTime": {
     "end_time": "2025-02-10T00:17:07.934577Z",
     "start_time": "2025-02-10T00:17:07.928704Z"
    }
   },
   "cell_type": "code",
   "source": [
    "class Livre:\n",
    "    def __init__(self, titre: str, auteur: str, annee: int):\n",
    "        self.titre = titre\n",
    "        self.auteur = auteur\n",
    "        self.annee = annee\n",
    "    def info(self):\n",
    "        return f\"{self.titre} par {self.auteur} ({self.annee})\"\n",
    "    def __repr__(self) -> str:\n",
    "        return self.info()\n",
    "\n",
    "class Bibliotheque:\n",
    "    def __init__(self):\n",
    "        self.catalogue: dict[str, list[Livre]] = {}\n",
    "    def ajouter_livre(self, genre: str, livre: Livre):\n",
    "        if genre not in self.catalogue:\n",
    "            self.catalogue[genre] = []\n",
    "        self.catalogue[genre].append(livre)\n",
    "    def recherche(self, auteur=None, annee_min=None) -> list[Livre]:\n",
    "        livres_trouves = []\n",
    "        for livres in self.catalogue.values():\n",
    "            for livre in livres:\n",
    "                if auteur is not None and livre.auteur != auteur:\n",
    "                    continue\n",
    "                if annee_min is not None and livre.annee < annee_min:\n",
    "                    continue\n",
    "                livres_trouves.append(livre)\n",
    "        return livres_trouves\n",
    "\n",
    "biblio = Bibliotheque()\n",
    "biblio.ajouter_livre(\"SF\", Livre(\"Dune\", \"Frank Herbert\", 1965))\n",
    "biblio.ajouter_livre(\"SF\", Livre(\"Fondation\", \"Asimov\", 1951))\n",
    "print(biblio.recherche(annee_min=1960))"
   ],
   "id": "d041e1d5387a0b35",
   "outputs": [
    {
     "name": "stdout",
     "output_type": "stream",
     "text": [
      "[Dune par Frank Herbert (1965)]\n"
     ]
    }
   ],
   "execution_count": 68
  },
  {
   "metadata": {},
   "cell_type": "markdown",
   "source": [
    "# Exercice 10 : Gestion des exceptions\n",
    "Crée un système de conversion d'âge interplanétaire qui :\n",
    "- Demande à l'utilisateur :\n",
    "    - Une planète (Mercure/Vénus/Mars)\n",
    "    - Un âge terrestre (nombre entier positif)\n",
    "- Lève des exceptions personnalisées pour :\n",
    "    - PlanèteInvalideError : si la planète n'est pas dans la liste\n",
    "    - ÂgeNégatifError : si l'âge < 0\n",
    "- Calcule et affiche l'âge converti selon :\n",
    "    - Mercure : × 0.2408\n",
    "    - Vénus : × 0.6152\n",
    "    - Mars : × 1.8808"
   ],
   "id": "24b1e2a7154216da"
  },
  {
   "metadata": {
    "ExecuteTime": {
     "end_time": "2025-02-10T00:32:05.883546Z",
     "start_time": "2025-02-10T00:32:01.169895Z"
    }
   },
   "cell_type": "code",
   "source": [
    "class PlaneteInvalideError(Exception):\n",
    "    pass\n",
    "\n",
    "class AgeNegatifError(Exception):\n",
    "    pass\n",
    "\n",
    "def convertir_age(planete: str, age: int) -> float:\n",
    "    planetes_valides = ['Mercure', 'Vénus', 'Mars']\n",
    "    if planete not in planetes_valides:\n",
    "        raise PlaneteInvalideError()\n",
    "    if age < 0:\n",
    "        raise AgeNegatifError()\n",
    "    facteurs_conversion = {\n",
    "        'Mercure': 0.2408,\n",
    "        'Vénus': 0.6152,\n",
    "        'Mars': 1.8808\n",
    "    }\n",
    "    return age * facteurs_conversion[planete]\n",
    "\n",
    "planete_input = input(\"Entrez la planète (Mercure/Vénus/Mars): \").strip()\n",
    "age_input = input(\"Entrez votre âge terrestre: \").strip()\n",
    "\n",
    "try:\n",
    "    age_terre = int(age_input)\n",
    "except ValueError:\n",
    "    print(\"Erreur: L'âge doit être un nombre entier positif.\")\n",
    "else:\n",
    "    try:\n",
    "        age_converti = convertir_age(planete_input, age_terre)\n",
    "        print(f\"Votre âge sur {planete_input} est {age_converti:.2f} ans.\")\n",
    "    except PlaneteInvalideError:\n",
    "        print(\"Erreur: La planète spécifiée n'est pas valide.\")\n",
    "    except AgeNegatifError:\n",
    "        print(\"Erreur: L'âge ne peut pas être négatif.\")"
   ],
   "id": "4eda44ccfd159a2d",
   "outputs": [
    {
     "name": "stdout",
     "output_type": "stream",
     "text": [
      "Votre âge sur Mercure est 5.54 ans.\n"
     ]
    }
   ],
   "execution_count": 70
  },
  {
   "metadata": {},
   "cell_type": "markdown",
   "source": [
    "# Exercice 11 : Programmation fonctionnelle - map et filter\n",
    "Crée un script qui :\n",
    "- Génère une liste de 100 nombres aléatoires entre -50 et 50\n",
    "- Utilise une seule ligne de code avec map et filter pour :\n",
    "    - Ne garder que les nombres positifs\n",
    "    - Leur appliquer √(x)\n",
    "    - Les convertir en entiers\n",
    "- Affiche le résultat trié\n",
    "\n",
    "Contrainte :\n",
    "- Interdit d'utiliser les listes en compréhension"
   ],
   "id": "1882b1ae628af127"
  },
  {
   "metadata": {
    "ExecuteTime": {
     "end_time": "2025-02-10T00:59:26.957387Z",
     "start_time": "2025-02-10T00:59:26.953221Z"
    }
   },
   "cell_type": "code",
   "source": [
    "import random\n",
    "import math\n",
    "\n",
    "nombres = [random.randint(-50, 50) for _ in range(100)]\n",
    "resultat = sorted(map(math.isqrt, filter(lambda x: x > 0, nombres)))\n",
    "\n",
    "print(resultat)"
   ],
   "id": "7c625d340b5f49b0",
   "outputs": [
    {
     "name": "stdout",
     "output_type": "stream",
     "text": [
      "[1, 1, 1, 2, 2, 2, 3, 3, 3, 3, 3, 3, 3, 3, 3, 4, 4, 4, 4, 5, 5, 5, 5, 5, 5, 5, 5, 5, 5, 5, 5, 5, 5, 6, 6, 6, 6, 6, 6, 6, 6, 6, 6, 6, 6, 6, 6]\n"
     ]
    }
   ],
   "execution_count": 77
  }
 ],
 "metadata": {
  "kernelspec": {
   "display_name": "Python 3",
   "language": "python",
   "name": "python3"
  },
  "language_info": {
   "codemirror_mode": {
    "name": "ipython",
    "version": 2
   },
   "file_extension": ".py",
   "mimetype": "text/x-python",
   "name": "python",
   "nbconvert_exporter": "python",
   "pygments_lexer": "ipython2",
   "version": "2.7.6"
  }
 },
 "nbformat": 4,
 "nbformat_minor": 5
}
