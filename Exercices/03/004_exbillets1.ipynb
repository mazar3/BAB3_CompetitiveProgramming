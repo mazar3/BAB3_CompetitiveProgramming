{
 "cells": [
  {
   "metadata": {
    "ExecuteTime": {
     "end_time": "2025-02-24T13:18:58.134456Z",
     "start_time": "2025-02-24T13:18:58.130245Z"
    }
   },
   "cell_type": "code",
   "source": [
    "import itertools\n",
    "#On possède 3 billets de 20 dollars, 4 billets de 10 dollars, 2 billets de 5 dollars et 5 billets d'un dollar.\n",
    "billets = [20, 20, 20, 10, 10, 10, 10, 10, 5, 5, 1, 1, 1, 1, 1]"
   ],
   "id": "f4696b540f57bd14",
   "outputs": [],
   "execution_count": 1
  },
  {
   "metadata": {
    "ExecuteTime": {
     "end_time": "2025-02-24T13:22:02.964512Z",
     "start_time": "2025-02-24T13:22:02.960441Z"
    }
   },
   "cell_type": "code",
   "source": [
    "#EX 1 - Listez les combinaisons uniques si on prend trois billets dans le portefeuille.\n",
    "k = 3\n",
    "possibilites = set()\n",
    "for subset in itertools.combinations(billets, k):\n",
    "    possibilites.add(subset)\n",
    "print(possibilites)\n",
    "print(len(possibilites))"
   ],
   "id": "20ea2d5afb3a78d",
   "outputs": [
    {
     "name": "stdout",
     "output_type": "stream",
     "text": [
      "{(20, 20, 5), (10, 10, 1), (20, 1, 1), (10, 10, 10), (10, 1, 1), (20, 20, 20), (20, 5, 1), (10, 5, 1), (20, 20, 1), (20, 20, 10), (20, 10, 5), (5, 1, 1), (10, 10, 5), (5, 5, 1), (20, 10, 1), (20, 10, 10), (10, 5, 5), (1, 1, 1), (20, 5, 5)}\n",
      "19\n"
     ]
    }
   ],
   "execution_count": 13
  },
  {
   "metadata": {
    "ExecuteTime": {
     "end_time": "2025-02-24T13:23:28.148580Z",
     "start_time": "2025-02-24T13:23:28.145040Z"
    }
   },
   "cell_type": "code",
   "source": [
    "#EX 2 - Listez toutes les sommes possibles si on prend trois billets dans le portefeuille.\n",
    "k = 3\n",
    "sommes = set()\n",
    "for subset in itertools.combinations(billets, k):\n",
    "    sommes.add(sum(subset))\n",
    "print(sommes)\n",
    "print(len(sommes))"
   ],
   "id": "2c209b91da68f2cc",
   "outputs": [
    {
     "name": "stdout",
     "output_type": "stream",
     "text": [
      "{35, 3, 7, 40, 41, 11, 12, 45, 16, 50, 20, 21, 22, 25, 26, 60, 30, 31}\n",
      "18\n"
     ]
    }
   ],
   "execution_count": 15
  },
  {
   "metadata": {
    "ExecuteTime": {
     "end_time": "2025-02-24T13:29:33.300378Z",
     "start_time": "2025-02-24T13:29:33.290107Z"
    }
   },
   "cell_type": "code",
   "source": [
    "#EX 3 - Toutes les combinaisons conduisant à 100 dollars\n",
    "sommes = set()\n",
    "for k in range(len(billets)+1):\n",
    "    for subset in itertools.combinations(billets, k):\n",
    "        if sum(subset) == 100:\n",
    "            sommes.add(subset)\n",
    "print(sommes)\n",
    "print(len(sommes))"
   ],
   "id": "e465700e5a2d9678",
   "outputs": [
    {
     "name": "stdout",
     "output_type": "stream",
     "text": [
      "{(20, 20, 20, 10, 10, 10, 5, 1, 1, 1, 1, 1), (20, 20, 10, 10, 10, 10, 10, 5, 1, 1, 1, 1, 1), (20, 20, 10, 10, 10, 10, 10, 5, 5), (20, 20, 20, 10, 10, 10, 5, 5), (20, 20, 20, 10, 10, 10, 10)}\n",
      "5\n"
     ]
    }
   ],
   "execution_count": 21
  },
  {
   "metadata": {
    "ExecuteTime": {
     "end_time": "2025-02-24T13:18:58.379098Z",
     "start_time": "2025-02-24T13:18:58.376685Z"
    }
   },
   "cell_type": "code",
   "source": "#EX 4 - Toues les combinaisons uniques\n",
   "id": "bbce9b1ecbda7287",
   "outputs": [],
   "execution_count": 5
  }
 ],
 "metadata": {
  "kernelspec": {
   "name": "python3",
   "language": "python",
   "display_name": "Python 3 (ipykernel)"
  }
 },
 "nbformat": 5,
 "nbformat_minor": 9
}
