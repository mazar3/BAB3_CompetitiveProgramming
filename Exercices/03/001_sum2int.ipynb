{
 "cells": [
  {
   "metadata": {
    "ExecuteTime": {
     "end_time": "2025-02-24T14:10:26.300035Z",
     "start_time": "2025-02-24T14:10:26.295365Z"
    }
   },
   "cell_type": "code",
   "source": [
    "#Etant donné un vecteur d'entiers de taille n, on souhaite savoir\n",
    "#s'il existe deux entiers dans ce vecteur dont la somme vaut S.\n",
    "v = [4, 9, 0, 34, 7, 22, 3, 10, 1, 5, 12, 55, 89, 32, 53, 62]\n",
    "S = 111\n",
    "n = len(v)"
   ],
   "id": "192368265727c797",
   "outputs": [],
   "execution_count": 1
  },
  {
   "metadata": {
    "ExecuteTime": {
     "end_time": "2025-02-24T14:10:26.308783Z",
     "start_time": "2025-02-24T14:10:26.305607Z"
    }
   },
   "cell_type": "code",
   "source": [
    "#En O(n^2)\n",
    "for i in range(n):\n",
    "    for j in range(i+1, n):\n",
    "        if v[i] + v[j] == S:\n",
    "            print(f\"On a bien {v[i]} + {v[j]} = {S}\")\n",
    "            break"
   ],
   "id": "f02d9fb94f1c864c",
   "outputs": [
    {
     "name": "stdout",
     "output_type": "stream",
     "text": [
      "On a bien 22 + 89 = 111\n"
     ]
    }
   ],
   "execution_count": 2
  },
  {
   "metadata": {
    "ExecuteTime": {
     "end_time": "2025-02-24T14:10:26.538113Z",
     "start_time": "2025-02-24T14:10:26.534385Z"
    }
   },
   "cell_type": "code",
   "source": [
    "#En O(n*log(n))\n",
    "def binarySearch(tableau,x):\n",
    "    premier = 0\n",
    "    dernier = len(tableau)-1\n",
    "    found   = False\n",
    "\n",
    "    while premier<=dernier and not found:\n",
    "        pos = 0\n",
    "        milieu = (premier + dernier)//2\n",
    "        if tableau[milieu] == x:\n",
    "            pos = milieu\n",
    "            found = True\n",
    "        else:\n",
    "            if x < tableau[milieu]:\n",
    "                dernier = milieu-1\n",
    "            else:\n",
    "                premier = milieu+1\n",
    "    return (pos, found)\n",
    "\n",
    "v.sort()\n",
    "for nombre in v:\n",
    "    index, found = binarySearch(v, S-nombre) #\n",
    "    if found:\n",
    "        print(f\"On a bien {nombre} + {v[index]} = {S}\")\n",
    "        break"
   ],
   "id": "2b82708352866378",
   "outputs": [
    {
     "name": "stdout",
     "output_type": "stream",
     "text": [
      "On a bien 22 + 89 = 111\n"
     ]
    }
   ],
   "execution_count": 3
  },
  {
   "metadata": {
    "ExecuteTime": {
     "end_time": "2025-02-24T14:10:26.616151Z",
     "start_time": "2025-02-24T14:10:26.613034Z"
    }
   },
   "cell_type": "code",
   "source": [
    "#En O(n)\n",
    "ensemble = set(v)\n",
    "for nombre in ensemble:\n",
    "    if S-nombre in ensemble:\n",
    "        print(f\"On a bien {nombre} + {v[index]} = {S}\")\n",
    "        break"
   ],
   "id": "5074aadae09ff0e",
   "outputs": [
    {
     "name": "stdout",
     "output_type": "stream",
     "text": [
      "On a bien 22 + 89 = 111\n"
     ]
    }
   ],
   "execution_count": 4
  }
 ],
 "metadata": {
  "kernelspec": {
   "name": "python3",
   "language": "python",
   "display_name": "Python 3 (ipykernel)"
  }
 },
 "nbformat": 5,
 "nbformat_minor": 9
}
