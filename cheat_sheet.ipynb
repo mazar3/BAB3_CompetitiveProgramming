{
 "cells": [
  {
   "metadata": {},
   "cell_type": "markdown",
   "source": "## def isPrime(n):",
   "id": "d89282b68438d68"
  },
  {
   "metadata": {},
   "cell_type": "code",
   "outputs": [],
   "execution_count": null,
   "source": [
    "def isPrime_v3(n):\n",
    "    if n <= 1:\n",
    "        return False\n",
    "    if n == 2 or n == 3:\n",
    "        return True\n",
    "    if n % 2 == 0 or n % 3 == 0:\n",
    "        return False\n",
    "    k = 1\n",
    "    while (6*k - 1)**2 <= n:\n",
    "        if n % (6*k - 1) == 0 or n % (6*k + 1) == 0:\n",
    "            return False\n",
    "        k += 1\n",
    "    return True"
   ],
   "id": "7c94d30ca596ee8"
  },
  {
   "metadata": {},
   "cell_type": "markdown",
   "source": "## def calculate_average_time_probas(array, probas):",
   "id": "ed4479699d1bdd1f"
  },
  {
   "metadata": {},
   "cell_type": "code",
   "outputs": [],
   "execution_count": null,
   "source": [
    "n = int(input().strip())\n",
    "\n",
    "array = []\n",
    "for _ in range(n):\n",
    "    array, prob = map(str, input().strip().split())\n",
    "    prob = float(prob)\n",
    "    array.append((array, prob))\n",
    "\n",
    "array.sort(key=lambda x: x[1], reverse=True)"
   ],
   "id": "b7968feeafc95d06"
  },
  {
   "metadata": {},
   "cell_type": "code",
   "outputs": [],
   "execution_count": null,
   "source": [
    "def calculate_average_time_probas(array, probas):\n",
    "    avg_time = 0\n",
    "    for i, (_, probas) in enumerate(array, 1):\n",
    "        avg_time += i * probas\n",
    "    return avg_time"
   ],
   "id": "9d390e760baefe1a"
  },
  {
   "metadata": {},
   "cell_type": "markdown",
   "source": [
    "# Graphes\n",
    "## main:"
   ],
   "id": "69ae44f38aab59c4"
  },
  {
   "metadata": {},
   "cell_type": "code",
   "outputs": [],
   "execution_count": null,
   "source": [
    "n, m = map(int, input().split())\n",
    "probas = list(map(float, input().split()))\n",
    "routes = [input().strip().split() for _ in range(n)]"
   ],
   "id": "92ca0b141f15c6ba"
  },
  {
   "metadata": {},
   "cell_type": "markdown",
   "source": [
    "## def build_graph(size, routes):\n",
    "Construit un graphe sous forme de dictionnaire d'adjacence à partir des routes données.\n",
    "\n",
    "- Args:\n",
    "    - size (int) : Nombre de sommets dans le graphe.\n",
    "    - routes (list) : Liste des arêtes sous forme de tuples (u, v) ou (u, v, poids).\n",
    "- Returns:\n",
    "    - dict : Graphe représenté sous forme de dictionnaire d'adjacence."
   ],
   "id": "1a850ba9f67eae68"
  },
  {
   "metadata": {
    "collapsed": true
   },
   "cell_type": "code",
   "outputs": [],
   "execution_count": null,
   "source": [
    "def build_graph(size, routes):\n",
    "    graph = {str(i): [] for i in range(size)}\n",
    "    for route in routes:\n",
    "        if len(route) >= 2:\n",
    "            u, v = str(route[0]), str(route[1])\n",
    "            graph.setdefault(u, []).append(v)\n",
    "            graph.setdefault(v, []).append(u)  # Supprimer si graphe orienté\n",
    "\n",
    "    return graph"
   ],
   "id": "initial_id"
  },
  {
   "metadata": {},
   "cell_type": "markdown",
   "source": [
    "## def bfs_shortest_path(graph, start, end):\n",
    "Trouve le chemin le plus court entre deux nœuds dans un graphe à l'aide de BFS.\n",
    "\n",
    "- Args:\n",
    "    - graph (dict): Représentation du graphe sous forme de liste d'adjacence.\n",
    "    - start (str): Nœud de départ.\n",
    "    - end (str): Nœud d'arrivée.\n",
    "- Returns:\n",
    "    - list: Liste des nœuds formant le chemin le plus court du départ à l'arrivée."
   ],
   "id": "4ab22e5dc55c4aef"
  },
  {
   "metadata": {},
   "cell_type": "code",
   "outputs": [],
   "execution_count": null,
   "source": [
    "from collections import deque\n",
    "\n",
    "def bfs_shortest_path(graph, start, arrival):\n",
    "    start, end = str(start), str(arrival)\n",
    "    if start not in graph or arrival not in graph:\n",
    "        return []\n",
    "\n",
    "    queue = deque([[start]])\n",
    "    visited = set()\n",
    "\n",
    "    while queue:\n",
    "        path = queue.popleft()\n",
    "        node = path[-1]\n",
    "\n",
    "        if node == arrival:\n",
    "            return path\n",
    "\n",
    "        if node not in visited:\n",
    "            visited.add(node)\n",
    "            for neighbor in graph[node]:\n",
    "                new_path = path + [neighbor]\n",
    "                queue.append(new_path)\n",
    "\n",
    "    return []"
   ],
   "id": "e87b6ffcf8ed967e"
  },
  {
   "metadata": {},
   "cell_type": "markdown",
   "source": [
    "## def bfs_calculate_distances(graph, start):\n",
    "Calcule les plus courts chemins depuis un nœud de départ vers tous les autres nœuds.\n",
    "- Args:\n",
    "    - graph: Graphe sous forme de dictionnaire\n",
    "    - start: Nœud de départ\n",
    "- Returns:\n",
    "    - Dictionnaire des distances minimales vers chaque nœud"
   ],
   "id": "2a4b6185f1e1e155"
  },
  {
   "metadata": {},
   "cell_type": "code",
   "outputs": [],
   "execution_count": null,
   "source": [
    "from collections import deque\n",
    "\n",
    "def bfs_calculate_distances(graph, start):\n",
    "    start = str(start)\n",
    "    distances = {node: -1 for node in graph}\n",
    "    distances[start] = 0\n",
    "    queue = deque([start])\n",
    "\n",
    "    while queue:\n",
    "        current = queue.popleft()\n",
    "        for neighbor in graph[current]:\n",
    "            if distances[neighbor] == -1:\n",
    "                distances[neighbor] = distances[current] + 1\n",
    "                queue.append(neighbor)\n",
    "\n",
    "    return distances"
   ],
   "id": "ed40d752b967903e"
  },
  {
   "metadata": {},
   "cell_type": "markdown",
   "source": [
    "## def calculate_expected_time(graph, start, arrival, probas):\n",
    "Calcule le temps moyen attendu pour un trajet en tenant compte des probabilités.\n",
    "\n",
    "- Args:\n",
    "    - graph: Graphe représentant les portails entre planètes\n",
    "    - start: Planète de départ (fixe, utiliser None si probabiliste)\n",
    "    - arrival: Planète d'arrivée (fixe, utiliser None si probabiliste)\n",
    "    - probas: Liste des probabilités associées à chaque planète\n",
    "- Returns:\n",
    "    - Temps moyen pour ce trajet"
   ],
   "id": "76fadbfcd3401772"
  },
  {
   "metadata": {},
   "cell_type": "code",
   "outputs": [],
   "execution_count": null,
   "source": [
    "def calculate_expected_time(graph, start, arrival, probas):\n",
    "    if start is not None:   start = str(start)\n",
    "    if arrival is not None: arrival = str(arrival)\n",
    "    probas = {str(k): v for k, v in enumerate(probas, 1)}\n",
    "    expected_time = 0\n",
    "\n",
    "    if start is not None and arrival is None:\n",
    "        distances = bfs_calculate_distances(graph, start)\n",
    "        for node, prob in probas.items():\n",
    "            if prob > 0 and node in distances:\n",
    "                expected_time += prob * distances[node]\n",
    "\n",
    "    elif start is None and arrival is not None:\n",
    "        for node, prob in probas.items():\n",
    "            if prob > 0:\n",
    "                distances = bfs_calculate_distances(graph, node)\n",
    "                if arrival in distances:\n",
    "                    expected_time += prob * distances[arrival]\n",
    "\n",
    "    elif start is not None and arrival is not None:\n",
    "        distances = bfs_calculate_distances(graph, start)\n",
    "        expected_time = distances.get(arrival, -1)\n",
    "\n",
    "    else:\n",
    "        raise ValueError(\"Au moins un des paramètres start ou arrival doit être spécifié.\")\n",
    "\n",
    "    return expected_time"
   ],
   "id": "cab1f5158d21ea4e"
  }
 ],
 "metadata": {
  "kernelspec": {
   "display_name": "Python 3",
   "language": "python",
   "name": "python3"
  },
  "language_info": {
   "codemirror_mode": {
    "name": "ipython",
    "version": 2
   },
   "file_extension": ".py",
   "mimetype": "text/x-python",
   "name": "python",
   "nbconvert_exporter": "python",
   "pygments_lexer": "ipython2",
   "version": "2.7.6"
  }
 },
 "nbformat": 4,
 "nbformat_minor": 5
}
