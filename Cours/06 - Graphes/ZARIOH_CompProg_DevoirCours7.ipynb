{
 "cells": [
  {
   "metadata": {},
   "cell_type": "markdown",
   "source": [
    "# Zarioh Maximilien\n",
    "## https://open.kattis.com/problems/fruitbaskets"
   ],
   "id": "2dff6fa9acfa9ada"
  },
  {
   "cell_type": "code",
   "execution_count": null,
   "id": "initial_id",
   "metadata": {
    "collapsed": true
   },
   "outputs": [],
   "source": [
    "import itertools\n",
    "\n",
    "N = int(input())\n",
    "weights = list(map(int, input().split()))\n",
    "\n",
    "sum_weights = sum(weights)\n",
    "sum_total = sum_weights * (1 << (N - 1))\n",
    "\n",
    "sum_small = 0\n",
    "\n",
    "for w in weights:\n",
    "    if w < 200:\n",
    "        sum_small += w\n",
    "\n",
    "for combination in itertools.combinations(weights, 2):\n",
    "    sum_subset = sum(combination)\n",
    "    if sum_subset < 200:\n",
    "        sum_small += sum_subset\n",
    "\n",
    "for combination in itertools.combinations(weights, 3):\n",
    "    sum_subset = sum(combination)\n",
    "    if sum_subset < 200:\n",
    "        sum_small += sum_subset\n",
    "\n",
    "result = sum_total - sum_small\n",
    "print(result)"
   ]
  },
  {
   "metadata": {},
   "cell_type": "markdown",
   "source": "## https://open.kattis.com/problems/perfectpowers",
   "id": "c6157c4903bfce43"
  },
  {
   "metadata": {},
   "cell_type": "code",
   "outputs": [],
   "execution_count": null,
   "source": [
    "def gcd_v2(a, b):\n",
    "    if a < b: a, b = b, a\n",
    "    if b == 0: return a\n",
    "    return gcd_v2(a % b, b)\n",
    "\n",
    "def find_gcd_of_powers(x):\n",
    "    g = 0\n",
    "    count = 0\n",
    "    while x % 2 == 0:\n",
    "        x //= 2\n",
    "        count += 1\n",
    "    if count > 0:\n",
    "        g = count\n",
    "\n",
    "    i = 3\n",
    "    while i * i <= x:\n",
    "        count = 0\n",
    "        while x % i == 0:\n",
    "            x //= i\n",
    "            count += 1\n",
    "        if count > 0:\n",
    "            if g == 0:\n",
    "                g = count\n",
    "            else:\n",
    "                g = gcd_v2(g, count)\n",
    "        i += 2\n",
    "\n",
    "    if x > 1:\n",
    "        if g == 0:\n",
    "            g = 1\n",
    "        else:\n",
    "            g = gcd_v2(g, 1)\n",
    "\n",
    "    return g\n",
    "\n",
    "while True:\n",
    "    x = int(input())\n",
    "    if x == 0:\n",
    "        break\n",
    "    x_abs = abs(x)\n",
    "    g = find_gcd_of_powers(x_abs)\n",
    "    if x > 0:\n",
    "        print(g)\n",
    "    else:\n",
    "        while g % 2 == 0:\n",
    "            g //= 2\n",
    "        print(g)"
   ],
   "id": "881494f8d7ced52f"
  },
  {
   "metadata": {},
   "cell_type": "markdown",
   "source": [
    "## https://open.kattis.com/problems/islandhopping\n",
    "\n",
    "Je n'ai pas compris l'exercice."
   ],
   "id": "26418e6b98120f4"
  },
  {
   "metadata": {},
   "cell_type": "code",
   "outputs": [],
   "execution_count": null,
   "source": [
    "# import sys\n",
    "# import heapq\n",
    "#\n",
    "# def primalgo(G):\n",
    "#     N = len(G[0])\n",
    "#     spanningtree = []\n",
    "#     valeurSPT = 0\n",
    "#\n",
    "#     return spanningtree, valeurSPT\n",
    "#\n",
    "# with open(\"06_input.txt\",'r') as fin:"
   ],
   "id": "44529207851c7207"
  }
 ],
 "metadata": {
  "kernelspec": {
   "display_name": "Python 3",
   "language": "python",
   "name": "python3"
  },
  "language_info": {
   "codemirror_mode": {
    "name": "ipython",
    "version": 2
   },
   "file_extension": ".py",
   "mimetype": "text/x-python",
   "name": "python",
   "nbconvert_exporter": "python",
   "pygments_lexer": "ipython2",
   "version": "2.7.6"
  }
 },
 "nbformat": 4,
 "nbformat_minor": 5
}
