{
 "cells": [
  {
   "metadata": {},
   "cell_type": "markdown",
   "source": "# https://open.kattis.com/problems/weakvertices",
   "id": "cf8e1d975d30314c"
  },
  {
   "metadata": {
    "ExecuteTime": {
     "end_time": "2025-03-10T15:20:11.785465Z",
     "start_time": "2025-03-10T15:20:11.782271Z"
    }
   },
   "cell_type": "code",
   "source": [
    "import sys\n",
    "import itertools"
   ],
   "id": "e70500a776dac9c0",
   "outputs": [],
   "execution_count": 5
  },
  {
   "metadata": {
    "ExecuteTime": {
     "end_time": "2025-03-10T15:20:11.806355Z",
     "start_time": "2025-03-10T15:20:11.801884Z"
    }
   },
   "cell_type": "code",
   "source": [
    "with open(\"01_input.txt\",'r') as fin:\n",
    "    while True:\n",
    "        n = int(fin.readline().rstrip())\n",
    "        if n == -1: break\n",
    "        else:\n",
    "            # lecture de la matrice d'adjacence\n",
    "            A = [[*map(int,fin.readline().split())] for i in range(n)]\n",
    "\n",
    "            # on passe en revue tous les sommets\n",
    "            for i in range(n):\n",
    "                weak = True\n",
    "\n",
    "                # on détecte si le sommet i est un triangle\n",
    "                # on récupère l'ensemble des voisins du noeud i\n",
    "                voisins = []\n",
    "                for j in range(n):\n",
    "                    if i != j and A[i][j] == 1:\n",
    "                        voisins.append(j)\n",
    "\n",
    "                # on va tester toutes les paires de voisin et checker s'ils sont connectés entre eux\n",
    "                for a,b in itertools.combinations(voisins, 2):\n",
    "                    if A[a][b] == 1:\n",
    "                        weak = False\n",
    "                        break\n",
    "\n",
    "\n",
    "                if weak:\n",
    "                    print(f\"{i} \",end=\"\")"
   ],
   "id": "bddd671ecf7e5698",
   "outputs": [
    {
     "name": "stdout",
     "output_type": "stream",
     "text": [
      "1 8 0 "
     ]
    }
   ],
   "execution_count": 6
  }
 ],
 "metadata": {
  "kernelspec": {
   "name": "python3",
   "language": "python",
   "display_name": "Python 3 (ipykernel)"
  }
 },
 "nbformat": 5,
 "nbformat_minor": 9
}
