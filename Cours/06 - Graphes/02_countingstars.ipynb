{
 "cells": [
  {
   "metadata": {},
   "cell_type": "markdown",
   "source": "# https://open.kattis.com/problems/countingstars",
   "id": "b0160eb6be9402f9"
  },
  {
   "metadata": {
    "ExecuteTime": {
     "end_time": "2025-03-10T15:39:49.615414Z",
     "start_time": "2025-03-10T15:39:49.611550Z"
    }
   },
   "cell_type": "code",
   "source": [
    "import sys\n",
    "from collections import deque\n",
    "from turtledemo.sorting_animate import start_ssort"
   ],
   "id": "8030c2970c6ffe13",
   "outputs": [],
   "execution_count": 5
  },
  {
   "metadata": {
    "ExecuteTime": {
     "end_time": "2025-03-10T15:39:49.631946Z",
     "start_time": "2025-03-10T15:39:49.624516Z"
    }
   },
   "cell_type": "code",
   "source": [
    "with open(\"02_input.txt\",'r') as fin:\n",
    "    case = 1\n",
    "    while True:\n",
    "        line = fin.readline()\n",
    "        if line == \"\": break\n",
    "        else:\n",
    "\n",
    "            m, n = map(int, line.rstrip().split(\" \"))\n",
    "            grid = [list(str(fin.readline().rstrip())) for _ in range(m)]\n",
    "            visited = [[False for _ in range(n)] for _ in range(m)]\n",
    "\n",
    "            stars_count = 0\n",
    "            for i in range(m):\n",
    "                for j in range(n):\n",
    "                    if grid[i][j] == \"-\" and not visited[i][j]:\n",
    "                        stars_count += 1\n",
    "                        queue = deque()\n",
    "                        queue.append((i, j))\n",
    "                        while queue:\n",
    "                            x, y = queue.pop()\n",
    "                            visited[x][y] = True\n",
    "                            # on regarde à gauche\n",
    "                            if x-1 >= 0 and grid[x-1][y] == \"-\" and not visited[x-1][y]:\n",
    "                                queue.append((x-1, y))\n",
    "                            # on regarde à droite\n",
    "                            if x+1 < m and grid[x+1][y] == \"-\" and not visited[x+1][y]:\n",
    "                                queue.append((x+1, y))\n",
    "                            # on regarde en haut\n",
    "                            if y-1 >= 0 and grid[x][y-1] == \"-\" and not visited[x][y-1]:\n",
    "                                queue.append((x, y-1))\n",
    "                            # on regarde en bas\n",
    "                            if y+1 < n and grid[x][y+1] == \"-\" and not visited[x][y+1]:\n",
    "                                queue.append((x, y+1))\n",
    "\n",
    "\n",
    "            print(f\"Case {case}: {stars_count}\")\n",
    "            case += 1"
   ],
   "id": "3fc3edeecb81aaeb",
   "outputs": [
    {
     "name": "stdout",
     "output_type": "stream",
     "text": [
      "Case 1: 4\n",
      "Case 2: 1\n"
     ]
    }
   ],
   "execution_count": 6
  }
 ],
 "metadata": {
  "kernelspec": {
   "name": "python3",
   "language": "python",
   "display_name": "Python 3 (ipykernel)"
  }
 },
 "nbformat": 5,
 "nbformat_minor": 9
}
