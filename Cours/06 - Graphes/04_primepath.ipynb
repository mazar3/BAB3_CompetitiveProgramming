{
 "cells": [
  {
   "metadata": {},
   "cell_type": "markdown",
   "source": "# https://open.kattis.com/problems/primepath",
   "id": "eb11504e9fec3ea6"
  },
  {
   "metadata": {
    "ExecuteTime": {
     "end_time": "2025-03-10T16:30:08.473555Z",
     "start_time": "2025-03-10T16:30:08.470777Z"
    }
   },
   "cell_type": "code",
   "source": [
    "import sys\n",
    "import itertools\n",
    "from collections import deque"
   ],
   "id": "f52be8b8c8595e9f",
   "outputs": [],
   "execution_count": 13
  },
  {
   "metadata": {
    "ExecuteTime": {
     "end_time": "2025-03-10T16:30:08.487192Z",
     "start_time": "2025-03-10T16:30:08.483905Z"
    }
   },
   "cell_type": "code",
   "source": [
    "def SieveOfEratosthenes(n):\n",
    "    prime = [True]*(n+1)\n",
    "    prime[0] = False\n",
    "    prime[1] = False\n",
    "\n",
    "    x = 2\n",
    "    while x*x <= n:\n",
    "        if prime[x]==True:\n",
    "            for i in range(x**2,n+1,x):\n",
    "                prime[i] = False\n",
    "        x += 1\n",
    "    return prime"
   ],
   "id": "7934af7ebc36a860",
   "outputs": [],
   "execution_count": 14
  },
  {
   "metadata": {
    "ExecuteTime": {
     "end_time": "2025-03-10T16:30:08.807681Z",
     "start_time": "2025-03-10T16:30:08.492372Z"
    }
   },
   "cell_type": "code",
   "source": [
    "with open(\"04_input.txt\",'r') as fin:\n",
    "    prime = SieveOfEratosthenes(10**4+1)\n",
    "    primes = [i for i in range(1000, 10001) if prime[i]]\n",
    "\n",
    "    graph = dict()\n",
    "\n",
    "    for x, y in itertools.combinations(primes, 2):\n",
    "        strx = str(x)\n",
    "        stry = str(y)\n",
    "        n_differences = 0\n",
    "        if strx[0] != stry[0]: n_differences += 1\n",
    "        if strx[1] != stry[1]: n_differences += 1\n",
    "        if strx[2] != stry[2]: n_differences += 1\n",
    "        if strx[3] != stry[3]: n_differences += 1\n",
    "\n",
    "        # est-ce qu'il y a une arête ?\n",
    "        if n_differences == 1:\n",
    "            if x in graph:\n",
    "                graph[x].append(y)\n",
    "            else:\n",
    "                graph[x] = [y]\n",
    "\n",
    "            if y in graph:\n",
    "                graph[y].append(x)\n",
    "            else:\n",
    "                graph[y] = [x]\n",
    "\n",
    "    # lecture du nombre de cas\n",
    "    T = int(fin.readline().rstrip())\n",
    "    for _ in range(T):\n",
    "        prime1, prime2 = map(int, fin.readline().rstrip().split())\n",
    "\n",
    "        visited = {prime1}\n",
    "\n",
    "        queue = deque()\n",
    "        queue.append((prime1, 0))\n",
    "\n",
    "        while queue:\n",
    "            node, distance = queue.popleft() # recherche en largeur d'abord\n",
    "            if node == prime2:\n",
    "                print(distance)\n",
    "                break\n",
    "            for neighbor in graph[node]:\n",
    "                if neighbor not in visited:\n",
    "                    visited.add(neighbor)\n",
    "                    queue.append((neighbor, distance + 1))\n",
    "\n",
    "        else:\n",
    "            print(\"Impossible\")"
   ],
   "id": "497e67cbbe41e087",
   "outputs": [
    {
     "name": "stdout",
     "output_type": "stream",
     "text": [
      "6\n",
      "7\n",
      "0\n"
     ]
    }
   ],
   "execution_count": 15
  }
 ],
 "metadata": {
  "kernelspec": {
   "name": "python3",
   "language": "python",
   "display_name": "Python 3 (ipykernel)"
  }
 },
 "nbformat": 5,
 "nbformat_minor": 9
}
