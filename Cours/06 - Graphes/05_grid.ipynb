{
 "cells": [
  {
   "metadata": {},
   "cell_type": "markdown",
   "source": "# https://open.kattis.com/problems/grid",
   "id": "946bb912d0e6bd6e"
  },
  {
   "metadata": {
    "ExecuteTime": {
     "end_time": "2025-03-10T18:10:46.936500Z",
     "start_time": "2025-03-10T18:10:46.932987Z"
    }
   },
   "cell_type": "code",
   "source": [
    "import sys\n",
    "from collections import deque"
   ],
   "id": "94e33192d994668c",
   "outputs": [],
   "execution_count": 5
  },
  {
   "metadata": {
    "ExecuteTime": {
     "end_time": "2025-03-10T18:19:50.711579Z",
     "start_time": "2025-03-10T18:19:40.253610Z"
    }
   },
   "cell_type": "code",
   "source": [
    "with open(\"05_input.txt\",'r') as fin:\n",
    "    n, m = map(int, fin.readline().rstrip().split(\" \"))\n",
    "\n",
    "    grid = []\n",
    "    for i in range(n):\n",
    "        row = [int(x) for x in list(fin.readline().rstrip())]\n",
    "        grid.append(row)\n",
    "\n",
    "    queue = deque()\n",
    "    queue.append((0, 0, 0))\n",
    "\n",
    "    visited = {(0,0)}\n",
    "    while queue:\n",
    "        r, c, distance = queue.popleft()\n",
    "\n",
    "        if r == n-1 and c == m-1:\n",
    "            print(distance)\n",
    "            break\n",
    "\n",
    "        jump = grid[r][c]\n",
    "\n",
    "        # on est en position (r,c) et on peut sauter d'une quantité 'jump'\n",
    "        # si on peut sauter vers le haut :\n",
    "        if r - jump >= 0:\n",
    "            if (r - jump, c) not in visited:\n",
    "                visited.add((r - jump, c))\n",
    "                queue.append((r - jump, c, distance + 1))\n",
    "\n",
    "        # si on peut sauter vers le bas :\n",
    "        if r + jump < n:\n",
    "            if (r + jump, c) not in visited:\n",
    "                visited.add((r + jump, c))\n",
    "                queue.append((r + jump, c, distance + 1))\n",
    "\n",
    "        # si on peut sauter vers la gauche :\n",
    "        if c - jump >= 0:\n",
    "            if (r, c - jump) not in visited:\n",
    "                visited.add((r, c - jump))\n",
    "                queue.append((r, c - jump, distance + 1))\n",
    "\n",
    "        # si on peut sauter vers la droite :\n",
    "        if c + jump < m:\n",
    "            if (r, c + jump) not in visited:\n",
    "                visited.add((r, c + jump))\n",
    "                queue.append((r, c + jump, distance + 1))\n",
    "    else:\n",
    "        print(\"-1\")"
   ],
   "id": "54e62e49731536a3",
   "outputs": [
    {
     "name": "stdout",
     "output_type": "stream",
     "text": [
      "-1\n"
     ]
    }
   ],
   "execution_count": 10
  }
 ],
 "metadata": {
  "kernelspec": {
   "name": "python3",
   "language": "python",
   "display_name": "Python 3 (ipykernel)"
  }
 },
 "nbformat": 5,
 "nbformat_minor": 9
}
