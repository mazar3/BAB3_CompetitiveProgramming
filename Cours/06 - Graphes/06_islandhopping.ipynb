{
 "cells": [
  {
   "metadata": {},
   "cell_type": "code",
   "outputs": [],
   "execution_count": null,
   "source": [
    "import sys\n",
    "import heapq\n",
    "\n",
    "# https://open.kattis.com/problems/islandhopping\n",
    "\n",
    "def primalgo(G):\n",
    "    N             = len(G[0])\n",
    "    spanningtree  = [] #arbre couvrant de poids min\n",
    "    valeurSPT     = 0  #valeur de l'arbre couvrant de poids min\n",
    "    \n",
    "\n",
    "    \n",
    "\n",
    "    return spanningtree, valeurSPT\n",
    "\n",
    "\n",
    "\n",
    "with open(\"06_input.txt\",'r') as fin:\n",
    "    ...\n",
    "                "
   ],
   "id": "777eb65049a37959"
  }
 ],
 "metadata": {},
 "nbformat": 5,
 "nbformat_minor": 9
}
