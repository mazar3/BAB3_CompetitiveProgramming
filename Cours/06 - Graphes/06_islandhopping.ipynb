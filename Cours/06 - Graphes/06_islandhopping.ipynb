{
 "cells": [
  {
   "metadata": {},
   "cell_type": "markdown",
   "source": "# https://open.kattis.com/problems/islandhopping",
   "id": "b249d551e4e230c1"
  },
  {
   "metadata": {
    "ExecuteTime": {
     "end_time": "2025-03-24T08:00:26.346818Z",
     "start_time": "2025-03-24T08:00:26.334674Z"
    }
   },
   "cell_type": "code",
   "source": [
    "import math\n",
    "\n",
    "def primalgo(G):\n",
    "    num_islands = len(G)\n",
    "    mst_weight = 0.0\n",
    "    visited = [False] * num_islands\n",
    "    min_dist = [float('inf')] * num_islands\n",
    "    min_dist[0] = 0.0  # Start at island 0\n",
    "\n",
    "    for _ in range(num_islands):\n",
    "        # Find the unvisited vertex with the smallest distance\n",
    "        u = -1\n",
    "        for i in range(num_islands):\n",
    "            if not visited[i] and (u == -1 or min_dist[i] < min_dist[u]):\n",
    "                u = i\n",
    "        if min_dist[u] == float('inf'):\n",
    "            break  # Remaining vertices are unreachable (shouldn’t happen here)\n",
    "        visited[u] = True\n",
    "        mst_weight += min_dist[u]\n",
    "\n",
    "        # Update distances to unvisited vertices\n",
    "        for v in range(num_islands):\n",
    "            if not visited[v] and G[u][v] < min_dist[v]:\n",
    "                min_dist[v] = G[u][v]\n",
    "\n",
    "    return mst_weight\n",
    "\n",
    "# Read input from file (as per Kattis-like constraints)\n",
    "with open(\"input.txt\", 'r') as fin:\n",
    "    n = int(fin.readline().strip())  # Number of test cases\n",
    "    for _ in range(n):\n",
    "        m = int(fin.readline().strip())  # Number of islands\n",
    "        islands = []\n",
    "        for _ in range(m):\n",
    "            x, y = map(float, fin.readline().strip().split())\n",
    "            islands.append((x, y))\n",
    "\n",
    "        # Build distance matrix G\n",
    "        G = [[0.0] * m for _ in range(m)]\n",
    "        for i in range(m):\n",
    "            for j in range(i + 1, m):\n",
    "                x1, y1 = islands[i]\n",
    "                x2, y2 = islands[j]\n",
    "                dist = math.sqrt((x2 - x1) ** 2 + (y2 - y1) ** 2)\n",
    "                G[i][j] = dist\n",
    "                G[j][i] = dist\n",
    "\n",
    "        # Compute MST weight\n",
    "        result = primalgo(G)\n",
    "        print(f\"{result:.10f}\")"
   ],
   "id": "777eb65049a37959",
   "outputs": [
    {
     "name": "stdout",
     "output_type": "stream",
     "text": [
      "2.0000000000\n",
      "168.0101570927\n"
     ]
    }
   ],
   "execution_count": 1
  }
 ],
 "metadata": {
  "kernelspec": {
   "name": "python3",
   "language": "python",
   "display_name": "Python 3 (ipykernel)"
  }
 },
 "nbformat": 5,
 "nbformat_minor": 9
}
