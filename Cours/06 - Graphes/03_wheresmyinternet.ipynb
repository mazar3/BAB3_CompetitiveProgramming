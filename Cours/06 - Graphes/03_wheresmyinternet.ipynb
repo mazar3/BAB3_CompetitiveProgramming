{
 "cells": [
  {
   "metadata": {},
   "cell_type": "markdown",
   "source": "# https://open.kattis.com/problems/wheresmyinternet",
   "id": "fae4569764ca61f3"
  },
  {
   "metadata": {
    "ExecuteTime": {
     "end_time": "2025-03-10T16:02:22.114228Z",
     "start_time": "2025-03-10T16:02:22.111283Z"
    }
   },
   "cell_type": "code",
   "source": [
    "import sys\n",
    "from collections import deque"
   ],
   "id": "a44ff368b00a95a0",
   "outputs": [],
   "execution_count": 9
  },
  {
   "metadata": {
    "ExecuteTime": {
     "end_time": "2025-03-10T16:02:22.130715Z",
     "start_time": "2025-03-10T16:02:22.125086Z"
    }
   },
   "cell_type": "code",
   "source": [
    "with open(\"03_input2.txt\",'r') as fin:\n",
    "    n, m = map(int, fin.readline().rstrip().split(\" \"))\n",
    "    graph = dict()\n",
    "\n",
    "    for _ in range(m):\n",
    "        house1, house2 = map(int, fin.readline().rstrip().split(\" \"))\n",
    "        if house1 in graph:\n",
    "            graph[house1].append(house2)\n",
    "        else:\n",
    "            graph[house1] = [house2]\n",
    "\n",
    "        if house2 in graph:\n",
    "            graph[house2].append(house1)\n",
    "        else:\n",
    "            graph[house2] = [house1]\n",
    "\n",
    "    visited = [False]*(n+1)\n",
    "\n",
    "    queue = deque()\n",
    "    queue.append(1)\n",
    "\n",
    "    if 1 in graph:\n",
    "        while queue:\n",
    "            house = queue.pop()\n",
    "            visited[house] = True\n",
    "            for i in graph[house]:\n",
    "                if not visited[i]:\n",
    "                    queue.append(i)\n",
    "\n",
    "    connected = True\n",
    "    for house in range(2, n+1):\n",
    "        if not visited[house]:\n",
    "            print(house)\n",
    "            connected = False\n",
    "\n",
    "    if connected:\n",
    "        print(\"Connected\")"
   ],
   "id": "f99bc8c2b45a7567",
   "outputs": [
    {
     "name": "stdout",
     "output_type": "stream",
     "text": [
      "Connected\n"
     ]
    }
   ],
   "execution_count": 10
  }
 ],
 "metadata": {
  "kernelspec": {
   "name": "python3",
   "language": "python",
   "display_name": "Python 3 (ipykernel)"
  }
 },
 "nbformat": 5,
 "nbformat_minor": 9
}
