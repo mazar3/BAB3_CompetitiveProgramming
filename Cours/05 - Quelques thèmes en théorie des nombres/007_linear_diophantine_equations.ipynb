{
 "cells": [
  {
   "metadata": {},
   "cell_type": "code",
   "outputs": [],
   "execution_count": null,
   "source": [
    "def gcd(a,b): \n",
    "    #A COMPLETER\n",
    "def extended_euclid(a,b): \n",
    "    #A COMPLETER\n",
    "  \n",
    "# Linear Diophantine Equation:\n",
    "# Given integers a, b and c, find, if possible two integers x and y\n",
    "# such that a*x + b*y = c\n",
    "a = 57\n",
    "b = 22\n",
    "c = 400\n",
    "if #A COMPLETER\n",
    "    print(\"L'équation n'a pas de solution\")\n",
    "else:\n",
    "    #A COMPLETER"
   ],
   "id": "3330dc682b15488a"
  }
 ],
 "metadata": {},
 "nbformat": 5,
 "nbformat_minor": 9
}
