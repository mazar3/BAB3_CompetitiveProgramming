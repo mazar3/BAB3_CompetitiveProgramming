{
 "cells": [
  {
   "metadata": {
    "ExecuteTime": {
     "end_time": "2025-03-10T13:03:33.600489Z",
     "start_time": "2025-03-10T13:03:33.596580Z"
    }
   },
   "cell_type": "code",
   "source": "import time",
   "id": "755e0f222fb4be6b",
   "outputs": [],
   "execution_count": 1
  },
  {
   "metadata": {
    "ExecuteTime": {
     "end_time": "2025-03-10T13:03:55.348427Z",
     "start_time": "2025-03-10T13:03:55.345101Z"
    }
   },
   "cell_type": "code",
   "source": [
    "def isPrime_v1(n):\n",
    "    if n==1:\n",
    "        return False\n",
    "    else:\n",
    "        for x in range(2,n):\n",
    "            if n%x==0:\n",
    "                return False\n",
    "    return True\n",
    "print(isPrime_v1(67))"
   ],
   "id": "b6a064d403502068",
   "outputs": [
    {
     "name": "stdout",
     "output_type": "stream",
     "text": [
      "True\n"
     ]
    }
   ],
   "execution_count": 4
  },
  {
   "metadata": {
    "ExecuteTime": {
     "end_time": "2025-03-10T13:09:49.387751Z",
     "start_time": "2025-03-10T13:09:49.383569Z"
    }
   },
   "cell_type": "code",
   "source": [
    "def isPrime_v2(n):\n",
    "    if n==1:\n",
    "        return False\n",
    "    else:\n",
    "        x = 2\n",
    "        while x**2 <= n:\n",
    "            if n%x==0:\n",
    "                return False\n",
    "            x += 1\n",
    "    return True\n",
    "print(isPrime_v2(67))"
   ],
   "id": "92122a59ffa3f75",
   "outputs": [
    {
     "name": "stdout",
     "output_type": "stream",
     "text": [
      "True\n"
     ]
    }
   ],
   "execution_count": 6
  },
  {
   "metadata": {
    "ExecuteTime": {
     "end_time": "2025-03-10T13:17:54.337824Z",
     "start_time": "2025-03-10T13:17:54.333386Z"
    }
   },
   "cell_type": "code",
   "source": [
    "def isPrime_v3(n):\n",
    "    if n==1:\n",
    "        return False\n",
    "    else:\n",
    "        if n%2==0 or n%3==0:\n",
    "            return False\n",
    "        else:\n",
    "            k = 1\n",
    "            while(6*k -1)**2 <= n:\n",
    "                if n%(6*k-1)==0 or n%(6*k+1)==0:\n",
    "                    return False\n",
    "                k += 1\n",
    "    return True\n",
    "print(isPrime_v3(67))"
   ],
   "id": "ae41efad45983781",
   "outputs": [
    {
     "name": "stdout",
     "output_type": "stream",
     "text": [
      "True\n"
     ]
    }
   ],
   "execution_count": 14
  },
  {
   "metadata": {
    "ExecuteTime": {
     "end_time": "2025-03-10T13:11:01.836666Z",
     "start_time": "2025-03-10T13:11:01.833231Z"
    }
   },
   "cell_type": "code",
   "source": [
    "#Nombre test\n",
    "n = 500000201\n",
    "n = 1125899839733759"
   ],
   "id": "a66fcacdf68ae8cf",
   "outputs": [],
   "execution_count": 11
  },
  {
   "metadata": {
    "ExecuteTime": {
     "end_time": "2025-03-10T13:17:37.651045Z",
     "start_time": "2025-03-10T13:11:02.640490Z"
    }
   },
   "cell_type": "code",
   "source": [
    "s1    = time.time()\n",
    "test1 = isPrime_v1(n)\n",
    "e1    = time.time()\n",
    "print(f\"Version 1 : {test1} - temps d execution : {e1-s1} secondes\")"
   ],
   "id": "c109cd232d70ddfc",
   "outputs": [
    {
     "ename": "KeyboardInterrupt",
     "evalue": "",
     "output_type": "error",
     "traceback": [
      "\u001B[1;31m---------------------------------------------------------------------------\u001B[0m",
      "\u001B[1;31mKeyboardInterrupt\u001B[0m                         Traceback (most recent call last)",
      "Cell \u001B[1;32mIn[12], line 2\u001B[0m\n\u001B[0;32m      1\u001B[0m s1    \u001B[38;5;241m=\u001B[39m time\u001B[38;5;241m.\u001B[39mtime()\n\u001B[1;32m----> 2\u001B[0m test1 \u001B[38;5;241m=\u001B[39m \u001B[43misPrime_v1\u001B[49m\u001B[43m(\u001B[49m\u001B[43mn\u001B[49m\u001B[43m)\u001B[49m\n\u001B[0;32m      3\u001B[0m e1    \u001B[38;5;241m=\u001B[39m time\u001B[38;5;241m.\u001B[39mtime()\n\u001B[0;32m      4\u001B[0m \u001B[38;5;28mprint\u001B[39m(\u001B[38;5;124mf\u001B[39m\u001B[38;5;124m\"\u001B[39m\u001B[38;5;124mVersion 1 : \u001B[39m\u001B[38;5;132;01m{\u001B[39;00mtest1\u001B[38;5;132;01m}\u001B[39;00m\u001B[38;5;124m - temps d execution : \u001B[39m\u001B[38;5;132;01m{\u001B[39;00me1\u001B[38;5;241m-\u001B[39ms1\u001B[38;5;132;01m}\u001B[39;00m\u001B[38;5;124m secondes\u001B[39m\u001B[38;5;124m\"\u001B[39m)\n",
      "Cell \u001B[1;32mIn[4], line 6\u001B[0m, in \u001B[0;36misPrime_v1\u001B[1;34m(n)\u001B[0m\n\u001B[0;32m      4\u001B[0m \u001B[38;5;28;01melse\u001B[39;00m:\n\u001B[0;32m      5\u001B[0m     \u001B[38;5;28;01mfor\u001B[39;00m x \u001B[38;5;129;01min\u001B[39;00m \u001B[38;5;28mrange\u001B[39m(\u001B[38;5;241m2\u001B[39m,n):\n\u001B[1;32m----> 6\u001B[0m         \u001B[38;5;28;01mif\u001B[39;00m \u001B[43mn\u001B[49m\u001B[38;5;241;43m%\u001B[39;49m\u001B[43mx\u001B[49m\u001B[38;5;241m==\u001B[39m\u001B[38;5;241m0\u001B[39m:\n\u001B[0;32m      7\u001B[0m             \u001B[38;5;28;01mreturn\u001B[39;00m \u001B[38;5;28;01mFalse\u001B[39;00m\n\u001B[0;32m      8\u001B[0m \u001B[38;5;28;01mreturn\u001B[39;00m \u001B[38;5;28;01mTrue\u001B[39;00m\n",
      "\u001B[1;31mKeyboardInterrupt\u001B[0m: "
     ]
    }
   ],
   "execution_count": 12
  },
  {
   "metadata": {
    "ExecuteTime": {
     "end_time": "2025-03-10T13:17:46.515039Z",
     "start_time": "2025-03-10T13:17:42.683641Z"
    }
   },
   "cell_type": "code",
   "source": [
    "s2    = time.time()\n",
    "test2 = isPrime_v2(n)\n",
    "e2    = time.time()\n",
    "print(f\"Version 2 : {test2} - temps d execution : {e2-s2} secondes\")"
   ],
   "id": "cc6dc490fdf2d393",
   "outputs": [
    {
     "name": "stdout",
     "output_type": "stream",
     "text": [
      "Version 2 : True - temps d execution : 3.8273746967315674 secondes\n"
     ]
    }
   ],
   "execution_count": 13
  },
  {
   "metadata": {
    "ExecuteTime": {
     "end_time": "2025-03-10T13:18:01.665186Z",
     "start_time": "2025-03-10T13:18:00.386425Z"
    }
   },
   "cell_type": "code",
   "source": [
    "s3    = time.time()\n",
    "test3 = isPrime_v3(n)\n",
    "e3    = time.time()\n",
    "print(f\"Version 3 : {test3} - temps d execution : {e3-s3} secondes\")"
   ],
   "id": "e7c0f3abe9e57d06",
   "outputs": [
    {
     "name": "stdout",
     "output_type": "stream",
     "text": [
      "Version 3 : True - temps d execution : 1.2750682830810547 secondes\n"
     ]
    }
   ],
   "execution_count": 15
  }
 ],
 "metadata": {
  "kernelspec": {
   "name": "python3",
   "language": "python",
   "display_name": "Python 3 (ipykernel)"
  }
 },
 "nbformat": 5,
 "nbformat_minor": 9
}
