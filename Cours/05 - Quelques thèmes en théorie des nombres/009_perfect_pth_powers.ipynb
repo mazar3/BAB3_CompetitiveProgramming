{
 "cells": [
  {
   "metadata": {},
   "cell_type": "markdown",
   "source": "# https://open.kattis.com/problems/perfectpowers",
   "id": "47d1abb3648a7e97"
  },
  {
   "cell_type": "code",
   "execution_count": null,
   "id": "initial_id",
   "metadata": {
    "collapsed": true
   },
   "outputs": [],
   "source": [
    "def gcd_v2(a, b):\n",
    "    if a < b: a, b = b, a\n",
    "    if b == 0: return a\n",
    "    return gcd_v2(a % b, b)\n",
    "\n",
    "def find_gcd_of_powers(x):\n",
    "    g = 0\n",
    "    count = 0\n",
    "    while x % 2 == 0:\n",
    "        x //= 2\n",
    "        count += 1\n",
    "    if count > 0:\n",
    "        g = count\n",
    "\n",
    "    i = 3\n",
    "    while i * i <= x:\n",
    "        count = 0\n",
    "        while x % i == 0:\n",
    "            x //= i\n",
    "            count += 1\n",
    "        if count > 0:\n",
    "            if g == 0:\n",
    "                g = count\n",
    "            else:\n",
    "                g = gcd_v2(g, count)\n",
    "        i += 2\n",
    "\n",
    "    if x > 1:\n",
    "        if g == 0:\n",
    "            g = 1\n",
    "        else:\n",
    "            g = gcd_v2(g, 1)\n",
    "\n",
    "    return g\n",
    "\n",
    "while True:\n",
    "    x = int(input())\n",
    "    if x == 0:\n",
    "        break\n",
    "    x_abs = abs(x)\n",
    "    g = find_gcd_of_powers(x_abs)\n",
    "    if x > 0:\n",
    "        print(g)\n",
    "    else:\n",
    "        while g % 2 == 0:\n",
    "            g //= 2\n",
    "        print(g)"
   ]
  }
 ],
 "metadata": {
  "kernelspec": {
   "display_name": "Python 3",
   "language": "python",
   "name": "python3"
  },
  "language_info": {
   "codemirror_mode": {
    "name": "ipython",
    "version": 2
   },
   "file_extension": ".py",
   "mimetype": "text/x-python",
   "name": "python",
   "nbconvert_exporter": "python",
   "pygments_lexer": "ipython2",
   "version": "2.7.6"
  }
 },
 "nbformat": 4,
 "nbformat_minor": 5
}
