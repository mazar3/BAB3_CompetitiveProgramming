{
 "cells": [
  {
   "metadata": {},
   "cell_type": "code",
   "outputs": [],
   "execution_count": null,
   "source": [
    "def extended_euclid(a,b): \n",
    "    #A COMPLETER\n",
    "  \n",
    "#Test\n",
    "a = 30\n",
    "b = 12\n",
    "x, y = extended_euclid(a,b)\n",
    "print(f\"Une solution à l'équation {a}x+{b}y={a%b} est x={x} et y={y}\")\n"
   ],
   "id": "daaa0283dbfac542"
  }
 ],
 "metadata": {},
 "nbformat": 5,
 "nbformat_minor": 9
}
