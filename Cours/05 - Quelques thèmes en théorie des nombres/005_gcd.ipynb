{
 "cells": [
  {
   "metadata": {
    "ExecuteTime": {
     "end_time": "2025-03-10T14:08:23.211867Z",
     "start_time": "2025-03-10T14:08:23.208980Z"
    }
   },
   "cell_type": "code",
   "source": [
    "def gcd_v1(a,b):\n",
    "    if a < b : a,b = b,a\n",
    "    if b == 0: return a\n",
    "    return gcd_v1(a-b, b)"
   ],
   "id": "2cce8301c41c6f8c",
   "outputs": [],
   "execution_count": 4
  },
  {
   "metadata": {
    "ExecuteTime": {
     "end_time": "2025-03-10T14:08:23.219687Z",
     "start_time": "2025-03-10T14:08:23.216690Z"
    }
   },
   "cell_type": "code",
   "source": [
    "def gcd_v2(a,b):\n",
    "    if a < b : a,b = b,a\n",
    "    if b == 0: return a\n",
    "    return gcd_v2(a%b, b)"
   ],
   "id": "deb9209dd7098f89",
   "outputs": [],
   "execution_count": 5
  },
  {
   "metadata": {
    "ExecuteTime": {
     "end_time": "2025-03-10T14:08:23.231408Z",
     "start_time": "2025-03-10T14:08:23.228378Z"
    }
   },
   "cell_type": "code",
   "source": [
    "a = 988569812545\n",
    "b = 564569212545\n",
    "print(f\"GCD de {a} et {b} : {gcd_v1(a, b)}\")\n",
    "print(f\"GCD de {a} et {b} : {gcd_v2(a, b)}\")"
   ],
   "id": "60a54e9a65b5cc3f",
   "outputs": [
    {
     "name": "stdout",
     "output_type": "stream",
     "text": [
      "GCD de 988569812545 et 564569212545 : 5\n",
      "GCD de 988569812545 et 564569212545 : 5\n"
     ]
    }
   ],
   "execution_count": 6
  }
 ],
 "metadata": {
  "kernelspec": {
   "name": "python3",
   "language": "python",
   "display_name": "Python 3 (ipykernel)"
  }
 },
 "nbformat": 5,
 "nbformat_minor": 9
}
