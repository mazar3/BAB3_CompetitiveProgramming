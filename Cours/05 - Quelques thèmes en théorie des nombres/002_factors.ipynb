{
 "cells": [
  {
   "metadata": {
    "ExecuteTime": {
     "end_time": "2025-03-10T13:32:14.245018Z",
     "start_time": "2025-03-10T13:32:14.242Z"
    }
   },
   "cell_type": "code",
   "source": "import time",
   "id": "610a823c858e936f",
   "outputs": [],
   "execution_count": 16
  },
  {
   "metadata": {
    "ExecuteTime": {
     "end_time": "2025-03-10T13:32:14.267643Z",
     "start_time": "2025-03-10T13:32:14.264177Z"
    }
   },
   "cell_type": "code",
   "source": [
    "def trialDivision(n):\n",
    "    f = {}\n",
    "    x = 2\n",
    "    while n>1:\n",
    "        while n%x==0:\n",
    "            if x in f:\n",
    "                f[x] += 1\n",
    "            else:\n",
    "                f[x] = 1\n",
    "            n = n//x # division entière\n",
    "        x += 1\n",
    "    return f"
   ],
   "id": "99659d1fc66f1aa2",
   "outputs": [],
   "execution_count": 17
  },
  {
   "metadata": {
    "ExecuteTime": {
     "end_time": "2025-03-10T13:32:14.277776Z",
     "start_time": "2025-03-10T13:32:14.274678Z"
    }
   },
   "cell_type": "code",
   "source": [
    "def trialDivision_v2(n):\n",
    "    f = {}\n",
    "    x = 2\n",
    "    while x**2 <= n:\n",
    "        while n%x==0:\n",
    "            if x in f:\n",
    "                f[x] += 1\n",
    "            else:\n",
    "                f[x] = 1\n",
    "            n = n//x # division entière\n",
    "        x += 1\n",
    "\n",
    "    if n>1: f[n] = 1\n",
    "    return f"
   ],
   "id": "ed52592505dfc617",
   "outputs": [],
   "execution_count": 18
  },
  {
   "metadata": {
    "ExecuteTime": {
     "end_time": "2025-03-10T13:32:14.287751Z",
     "start_time": "2025-03-10T13:32:14.284382Z"
    }
   },
   "cell_type": "code",
   "source": [
    "n = 8407\n",
    "\n",
    "s = time.time()\n",
    "f = trialDivision(n)\n",
    "e = time.time()\n",
    "print(f)\n",
    "print(f\"Temps d'exécution : {e - s}\")"
   ],
   "id": "6769f6f7972f2398",
   "outputs": [
    {
     "name": "stdout",
     "output_type": "stream",
     "text": [
      "{7: 1, 1201: 1}\n",
      "Temps d'exécution : 9.72747802734375e-05\n"
     ]
    }
   ],
   "execution_count": 19
  },
  {
   "metadata": {
    "ExecuteTime": {
     "end_time": "2025-03-10T13:32:14.297506Z",
     "start_time": "2025-03-10T13:32:14.294266Z"
    }
   },
   "cell_type": "code",
   "source": [
    "n = 66\n",
    "\n",
    "s = time.time()\n",
    "f = trialDivision(n)\n",
    "e = time.time()\n",
    "print(f)\n",
    "print(f\"Temps d'exécution : {e - s}\")"
   ],
   "id": "a4d6ff775a6c094d",
   "outputs": [
    {
     "name": "stdout",
     "output_type": "stream",
     "text": [
      "{2: 1, 3: 1, 11: 1}\n",
      "Temps d'exécution : 4.696846008300781e-05\n"
     ]
    }
   ],
   "execution_count": 20
  },
  {
   "metadata": {
    "ExecuteTime": {
     "end_time": "2025-03-10T13:33:37.514865Z",
     "start_time": "2025-03-10T13:33:31.899954Z"
    }
   },
   "cell_type": "code",
   "source": [
    "n = 3+10**15\n",
    "\n",
    "s1 = time.time()\n",
    "f1 = trialDivision(n)\n",
    "e1 = time.time()\n",
    "\n",
    "s2 = time.time()\n",
    "f2 = trialDivision_v2(n)\n",
    "e2 = time.time()\n",
    "\n",
    "print(f1)\n",
    "print(f\"Temps d'exécution : {e1 - s1}\")\n",
    "print(f2)\n",
    "print(f\"Temps d'exécution v2 : {e2 - s2}\")"
   ],
   "id": "23f897115c5db19c",
   "outputs": [
    {
     "name": "stdout",
     "output_type": "stream",
     "text": [
      "{14902357: 1, 67103479: 1}\n",
      "Temps d'exécution : 3.9406521320343018\n",
      "{14902357: 1, 67103479: 1}\n",
      "Temps d'exécution v2 : 1.670600414276123\n"
     ]
    }
   ],
   "execution_count": 23
  }
 ],
 "metadata": {
  "kernelspec": {
   "name": "python3",
   "language": "python",
   "display_name": "Python 3 (ipykernel)"
  }
 },
 "nbformat": 5,
 "nbformat_minor": 9
}
