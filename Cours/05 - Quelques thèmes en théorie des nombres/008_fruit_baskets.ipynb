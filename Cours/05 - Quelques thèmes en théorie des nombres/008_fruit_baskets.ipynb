{
 "cells": [
  {
   "metadata": {},
   "cell_type": "markdown",
   "source": "# https://open.kattis.com/problems/fruitbaskets",
   "id": "912514b9df11fb08"
  },
  {
   "metadata": {},
   "cell_type": "code",
   "outputs": [],
   "execution_count": null,
   "source": [
    "import itertools\n",
    "\n",
    "N = int(input())\n",
    "weights = list(map(int, input().split()))\n",
    "\n",
    "sum_weights = sum(weights)\n",
    "sum_total = sum_weights * (1 << (N - 1))\n",
    "\n",
    "sum_small = 0\n",
    "\n",
    "for w in weights:\n",
    "    if w < 200:\n",
    "        sum_small += w\n",
    "\n",
    "for combination in itertools.combinations(weights, 2):\n",
    "    sum_subset = sum(combination)\n",
    "    if sum_subset < 200:\n",
    "        sum_small += sum_subset\n",
    "\n",
    "for combination in itertools.combinations(weights, 3):\n",
    "    sum_subset = sum(combination)\n",
    "    if sum_subset < 200:\n",
    "        sum_small += sum_subset\n",
    "\n",
    "result = sum_total - sum_small\n",
    "print(result)"
   ],
   "id": "3968a53ef4811779"
  }
 ],
 "metadata": {},
 "nbformat": 5,
 "nbformat_minor": 9
}
