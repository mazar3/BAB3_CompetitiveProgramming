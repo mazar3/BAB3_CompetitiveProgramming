{
 "cells": [
  {
   "metadata": {
    "ExecuteTime": {
     "end_time": "2025-03-10T12:54:31.029407Z",
     "start_time": "2025-03-10T12:54:31.025680Z"
    }
   },
   "cell_type": "code",
   "source": [
    "import math\n",
    "cas = [0,1,3,10,20]\n",
    "\n",
    "n = 10\n",
    "x = 17**n"
   ],
   "id": "67bf1f20923f7795",
   "outputs": [],
   "execution_count": 1
  },
  {
   "metadata": {
    "ExecuteTime": {
     "end_time": "2025-03-10T12:54:31.065952Z",
     "start_time": "2025-03-10T12:54:31.062559Z"
    }
   },
   "cell_type": "code",
   "source": [
    "nombre_de_chiffre = 1 + math.floor(math.log10(x))\n",
    "print(f\"17^{n} a {nombre_de_chiffre} chiffres\")"
   ],
   "id": "6019d616eb6f2bf2",
   "outputs": [
    {
     "name": "stdout",
     "output_type": "stream",
     "text": [
      "17^10 a 13 chiffres\n"
     ]
    }
   ],
   "execution_count": 2
  },
  {
   "metadata": {
    "ExecuteTime": {
     "end_time": "2025-03-10T12:56:11.260137Z",
     "start_time": "2025-03-10T12:56:11.255657Z"
    }
   },
   "cell_type": "code",
   "source": [
    "for n in cas:\n",
    "    somme = 0\n",
    "    for i in range(2, n+1):\n",
    "        somme += math.log10(i)\n",
    "    nombre_de_chiffre = 1 + math.floor(somme)\n",
    "    print(f\"{n}! a {nombre_de_chiffre} chiffres\")"
   ],
   "id": "446f4f6f6d535866",
   "outputs": [
    {
     "name": "stdout",
     "output_type": "stream",
     "text": [
      "0 a 1 chiffres\n",
      "1 a 1 chiffres\n",
      "3 a 1 chiffres\n",
      "10 a 7 chiffres\n",
      "20 a 19 chiffres\n"
     ]
    }
   ],
   "execution_count": 4
  },
  {
   "metadata": {
    "ExecuteTime": {
     "end_time": "2025-03-10T13:00:22.460212Z",
     "start_time": "2025-03-10T13:00:22.456341Z"
    }
   },
   "cell_type": "code",
   "source": [
    "n = 10**6\n",
    "partie1 = math.log10(2*math.pi*n)**0.5\n",
    "partie2 = n*math.log10(n/math.exp(1))\n",
    "nombre_de_chiffre = 1 + math.floor(partie1+partie2)\n",
    "print(f\"{n}! a {nombre_de_chiffre} chiffres\")"
   ],
   "id": "9fe922d5831b469",
   "outputs": [
    {
     "name": "stdout",
     "output_type": "stream",
     "text": [
      "1000000! a 5565709 chiffres\n"
     ]
    }
   ],
   "execution_count": 6
  }
 ],
 "metadata": {
  "kernelspec": {
   "name": "python3",
   "language": "python",
   "display_name": "Python 3 (ipykernel)"
  }
 },
 "nbformat": 5,
 "nbformat_minor": 9
}
