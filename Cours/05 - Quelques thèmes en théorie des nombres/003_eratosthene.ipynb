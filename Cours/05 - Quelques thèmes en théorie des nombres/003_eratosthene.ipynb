{
 "cells": [
  {
   "metadata": {
    "ExecuteTime": {
     "end_time": "2025-03-10T13:38:17.060065Z",
     "start_time": "2025-03-10T13:38:17.056034Z"
    }
   },
   "cell_type": "code",
   "source": [
    "def SieveOfEratosthenes(n): \n",
    "    primes = [True for i in range(n + 1)]\n",
    "\n",
    "    primes[0] = False\n",
    "    primes[1] = True\n",
    "\n",
    "    x = 2\n",
    "    while x**2 <= n:\n",
    "        if primes[x]:\n",
    "            for i in range(x**2, n+1, x):\n",
    "                primes[i] = False\n",
    "        x += 1\n",
    "    return primes"
   ],
   "id": "30a65612524a257a",
   "outputs": [],
   "execution_count": 5
  },
  {
   "metadata": {
    "ExecuteTime": {
     "end_time": "2025-03-10T13:38:54.081474Z",
     "start_time": "2025-03-10T13:38:54.077394Z"
    }
   },
   "cell_type": "code",
   "source": [
    "n     = 300\n",
    "prime = SieveOfEratosthenes(n)\n",
    "print([i for i in range(n+1) if prime[i]])"
   ],
   "id": "2f15dda566dbdad8",
   "outputs": [
    {
     "name": "stdout",
     "output_type": "stream",
     "text": [
      "[1, 2, 3, 5, 7, 11, 13, 17, 19, 23, 29, 31, 37, 41, 43, 47, 53, 59, 61, 67, 71, 73, 79, 83, 89, 97, 101, 103, 107, 109, 113, 127, 131, 137, 139, 149, 151, 157, 163, 167, 173, 179, 181, 191, 193, 197, 199, 211, 223, 227, 229, 233, 239, 241, 251, 257, 263, 269, 271, 277, 281, 283, 293]\n"
     ]
    }
   ],
   "execution_count": 7
  }
 ],
 "metadata": {
  "kernelspec": {
   "name": "python3",
   "language": "python",
   "display_name": "Python 3 (ipykernel)"
  }
 },
 "nbformat": 5,
 "nbformat_minor": 9
}
