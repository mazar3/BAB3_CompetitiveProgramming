{
 "cells": [
  {
   "metadata": {
    "ExecuteTime": {
     "end_time": "2025-02-24T14:18:08.975069Z",
     "start_time": "2025-02-24T14:18:08.971541Z"
    }
   },
   "cell_type": "code",
   "source": [
    "import random\n",
    "import time\n",
    "\n",
    "v= [13,-3,-25,20,-3,-16,-23,18,20,-7,12,-5,-22,15,-4,7]\n",
    "n = len(v)"
   ],
   "id": "751ff747fa284a48",
   "outputs": [],
   "execution_count": 2
  },
  {
   "metadata": {
    "ExecuteTime": {
     "end_time": "2025-02-24T14:18:28.771068Z",
     "start_time": "2025-02-24T14:18:28.766848Z"
    }
   },
   "cell_type": "code",
   "source": [
    "#Brute force en O(n^3)\n",
    "start_time = time.time()\n",
    "\n",
    "sommemax = 0\n",
    "for i in range(n):\n",
    "    for j in range(i,n):\n",
    "        somme = 0\n",
    "        for k in range(i,j+1):\n",
    "            somme += v[k]\n",
    "        if somme > sommemax:\n",
    "            sommemax = somme\n",
    "            debut_opt = i\n",
    "            fin_opt = j\n",
    "\n",
    "print(f\"DebutOPT: {debut_opt}, FinOPT: {fin_opt}, sommemax: {sommemax}\")\n",
    "print(f\"--- {time.time() - start_time:.4f} seconds ---\")"
   ],
   "id": "a141bb4a41701c8b",
   "outputs": [
    {
     "name": "stdout",
     "output_type": "stream",
     "text": [
      "DebutOPT: 7, FinOPT: 10, sommemax: 43\n",
      "--- 0.0005 seconds ---\n"
     ]
    }
   ],
   "execution_count": 5
  },
  {
   "metadata": {
    "ExecuteTime": {
     "end_time": "2025-02-24T14:21:00.290615Z",
     "start_time": "2025-02-24T14:21:00.286817Z"
    }
   },
   "cell_type": "code",
   "source": [
    "#Brute force en O(n^2)\n",
    "start_time = time.time()\n",
    "\n",
    "sommemax = 0\n",
    "for i in range(n):\n",
    "    somme = 0\n",
    "    for j in range(i,n):\n",
    "        somme += v[j]\n",
    "        if somme > sommemax:\n",
    "            sommemax = somme\n",
    "            debut_opt = i\n",
    "            fin_opt = j\n",
    "\n",
    "print(f\"DebutOPT: {debut_opt}, FinOPT: {fin_opt}, sommemax: {sommemax}\")\n",
    "print(f\"--- {time.time() - start_time:.4f} seconds ---\")"
   ],
   "id": "896dbc0f8e16a939",
   "outputs": [
    {
     "name": "stdout",
     "output_type": "stream",
     "text": [
      "DebutOPT: 7, FinOPT: 10, sommemax: 43\n",
      "--- 0.0004 seconds ---\n"
     ]
    }
   ],
   "execution_count": 6
  }
 ],
 "metadata": {
  "kernelspec": {
   "name": "python3",
   "language": "python",
   "display_name": "Python 3 (ipykernel)"
  }
 },
 "nbformat": 5,
 "nbformat_minor": 9
}
