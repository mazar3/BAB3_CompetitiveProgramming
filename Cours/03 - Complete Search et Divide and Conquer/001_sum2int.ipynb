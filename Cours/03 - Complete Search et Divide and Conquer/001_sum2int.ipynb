{
 "cells": [
  {
   "metadata": {
    "ExecuteTime": {
     "end_time": "2025-04-01T10:50:46.715778Z",
     "start_time": "2025-04-01T10:50:46.713337Z"
    }
   },
   "cell_type": "code",
   "source": "import time",
   "id": "8f9045b7963b4592",
   "outputs": [],
   "execution_count": 6
  },
  {
   "metadata": {
    "ExecuteTime": {
     "end_time": "2025-04-01T10:50:46.729971Z",
     "start_time": "2025-04-01T10:50:46.727622Z"
    }
   },
   "cell_type": "code",
   "source": [
    "#Etant donné un vecteur d'entiers de taille n, on souhaite savoir\n",
    "#s'il existe deux entiers dans ce vecteur dont la somme vaut S.\n",
    "v = [4, 9, 0, 34, 7, 22, 3, 10, 1, 5, 12, 55, 89, 32, 53, 62]\n",
    "S = 111\n",
    "n = len(v)"
   ],
   "id": "192368265727c797",
   "outputs": [],
   "execution_count": 7
  },
  {
   "metadata": {
    "ExecuteTime": {
     "end_time": "2025-04-01T10:50:46.738108Z",
     "start_time": "2025-04-01T10:50:46.734986Z"
    }
   },
   "cell_type": "code",
   "source": [
    "#En O(n^2)\n",
    "s1 = time.time()\n",
    "for i in range(n):\n",
    "    for j in range(i+1, n):\n",
    "        if v[i] + v[j] == S:\n",
    "            print(f\"On a bien {v[i]} + {v[j]} = {S}\")\n",
    "            break\n",
    "e1 = time.time()"
   ],
   "id": "f02d9fb94f1c864c",
   "outputs": [
    {
     "name": "stdout",
     "output_type": "stream",
     "text": [
      "On a bien 22 + 89 = 111\n"
     ]
    }
   ],
   "execution_count": 8
  },
  {
   "metadata": {
    "ExecuteTime": {
     "end_time": "2025-04-01T10:50:46.824778Z",
     "start_time": "2025-04-01T10:50:46.821156Z"
    }
   },
   "cell_type": "code",
   "source": [
    "#En O(n*log(n))\n",
    "def binarySearch(tableau,x):\n",
    "    premier = 0\n",
    "    dernier = len(tableau)-1\n",
    "    found   = False\n",
    "\n",
    "    while premier<=dernier and not found:\n",
    "        pos = 0\n",
    "        milieu = (premier + dernier)//2\n",
    "        if tableau[milieu] == x:\n",
    "            pos = milieu\n",
    "            found = True\n",
    "        else:\n",
    "            if x < tableau[milieu]:\n",
    "                dernier = milieu-1\n",
    "            else:\n",
    "                premier = milieu+1\n",
    "    return (pos, found)\n",
    "s2 = time.time()\n",
    "v.sort()\n",
    "for nombre in v:\n",
    "    index, found = binarySearch(v, S-nombre) #\n",
    "    if found:\n",
    "        print(f\"On a bien {nombre} + {v[index]} = {S}\")\n",
    "        break\n",
    "e2 = time.time()"
   ],
   "id": "2b82708352866378",
   "outputs": [
    {
     "name": "stdout",
     "output_type": "stream",
     "text": [
      "On a bien 22 + 89 = 111\n"
     ]
    }
   ],
   "execution_count": 9
  },
  {
   "metadata": {
    "ExecuteTime": {
     "end_time": "2025-04-01T10:50:46.924659Z",
     "start_time": "2025-04-01T10:50:46.921653Z"
    }
   },
   "cell_type": "code",
   "source": [
    "#En O(n)\n",
    "s3 = time.time()\n",
    "ensemble = set(v)\n",
    "for nombre in ensemble:\n",
    "    if S-nombre in ensemble:\n",
    "        print(f\"On a bien {nombre} + {v[index]} = {S}\")\n",
    "        break\n",
    "e3 = time.time()"
   ],
   "id": "5074aadae09ff0e",
   "outputs": [
    {
     "name": "stdout",
     "output_type": "stream",
     "text": [
      "On a bien 22 + 89 = 111\n"
     ]
    }
   ],
   "execution_count": 10
  },
  {
   "metadata": {
    "ExecuteTime": {
     "end_time": "2025-04-01T10:50:46.994205Z",
     "start_time": "2025-04-01T10:50:46.991439Z"
    }
   },
   "cell_type": "code",
   "source": [
    "print(e1-s1)\n",
    "print(e2-s2)\n",
    "print(e3-s3)"
   ],
   "id": "a5326b2d5e913141",
   "outputs": [
    {
     "name": "stdout",
     "output_type": "stream",
     "text": [
      "0.0002655982971191406\n",
      "0.00027632713317871094\n",
      "0.00021839141845703125\n"
     ]
    }
   ],
   "execution_count": 11
  }
 ],
 "metadata": {
  "kernelspec": {
   "name": "python3",
   "language": "python",
   "display_name": "Python 3 (ipykernel)"
  }
 },
 "nbformat": 5,
 "nbformat_minor": 9
}
